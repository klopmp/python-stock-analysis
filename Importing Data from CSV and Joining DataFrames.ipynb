{
 "cells": [
  {
   "cell_type": "markdown",
   "metadata": {},
   "source": [
    "# Setup\n",
    "This is a quick tutorial on how to join two different CSV/Excel files using Python and Pandas DataFrame. This method can oftentimes be quicker than Excel forumlas or scripting."
   ]
  },
  {
   "cell_type": "code",
   "execution_count": 14,
   "metadata": {
    "collapsed": true
   },
   "outputs": [],
   "source": [
    "import pandas as pd\n",
    "from pandas import DataFrame"
   ]
  },
  {
   "cell_type": "markdown",
   "metadata": {},
   "source": [
    "### Note first entry is dated 1/13/16"
   ]
  },
  {
   "cell_type": "code",
   "execution_count": 17,
   "metadata": {
    "collapsed": false
   },
   "outputs": [
    {
     "data": {
      "text/html": [
       "<div>\n",
       "<table border=\"1\" class=\"dataframe\">\n",
       "  <thead>\n",
       "    <tr style=\"text-align: right;\">\n",
       "      <th></th>\n",
       "      <th>Date</th>\n",
       "      <th>Ticker</th>\n",
       "      <th>Close</th>\n",
       "    </tr>\n",
       "  </thead>\n",
       "  <tbody>\n",
       "    <tr>\n",
       "      <th>0</th>\n",
       "      <td>1/13/16</td>\n",
       "      <td>AMZN</td>\n",
       "      <td>724.92</td>\n",
       "    </tr>\n",
       "    <tr>\n",
       "      <th>1</th>\n",
       "      <td>1/14/16</td>\n",
       "      <td>AMZN</td>\n",
       "      <td>770.24</td>\n",
       "    </tr>\n",
       "    <tr>\n",
       "      <th>2</th>\n",
       "      <td>1/15/16</td>\n",
       "      <td>AMZN</td>\n",
       "      <td>716.52</td>\n",
       "    </tr>\n",
       "    <tr>\n",
       "      <th>3</th>\n",
       "      <td>1/16/16</td>\n",
       "      <td>AMZN</td>\n",
       "      <td>783.79</td>\n",
       "    </tr>\n",
       "    <tr>\n",
       "      <th>4</th>\n",
       "      <td>1/17/16</td>\n",
       "      <td>AMZN</td>\n",
       "      <td>710.68</td>\n",
       "    </tr>\n",
       "    <tr>\n",
       "      <th>5</th>\n",
       "      <td>1/18/16</td>\n",
       "      <td>AMZN</td>\n",
       "      <td>798.79</td>\n",
       "    </tr>\n",
       "  </tbody>\n",
       "</table>\n",
       "</div>"
      ],
      "text/plain": [
       "      Date Ticker   Close\n",
       "0  1/13/16   AMZN  724.92\n",
       "1  1/14/16   AMZN  770.24\n",
       "2  1/15/16   AMZN  716.52\n",
       "3  1/16/16   AMZN  783.79\n",
       "4  1/17/16   AMZN  710.68\n",
       "5  1/18/16   AMZN  798.79"
      ]
     },
     "execution_count": 17,
     "metadata": {},
     "output_type": "execute_result"
    }
   ],
   "source": [
    "# Display content of first CSV file\n",
    "df_close = DataFrame(pd.read_csv('data/amzn_close.csv'))\n",
    "df_close"
   ]
  },
  {
   "cell_type": "markdown",
   "metadata": {},
   "source": [
    "### Note last entry is dated 1/19/16 and also records are sorted in reverse order"
   ]
  },
  {
   "cell_type": "code",
   "execution_count": 18,
   "metadata": {
    "collapsed": false
   },
   "outputs": [
    {
     "data": {
      "text/html": [
       "<div>\n",
       "<table border=\"1\" class=\"dataframe\">\n",
       "  <thead>\n",
       "    <tr style=\"text-align: right;\">\n",
       "      <th></th>\n",
       "      <th>Date</th>\n",
       "      <th>Ticker</th>\n",
       "      <th>Volume</th>\n",
       "    </tr>\n",
       "  </thead>\n",
       "  <tbody>\n",
       "    <tr>\n",
       "      <th>0</th>\n",
       "      <td>1/19/16</td>\n",
       "      <td>AMZN</td>\n",
       "      <td>821,581</td>\n",
       "    </tr>\n",
       "    <tr>\n",
       "      <th>1</th>\n",
       "      <td>1/18/16</td>\n",
       "      <td>AMZN</td>\n",
       "      <td>1,934,581</td>\n",
       "    </tr>\n",
       "    <tr>\n",
       "      <th>2</th>\n",
       "      <td>1/17/16</td>\n",
       "      <td>AMZN</td>\n",
       "      <td>8,601,054</td>\n",
       "    </tr>\n",
       "    <tr>\n",
       "      <th>3</th>\n",
       "      <td>1/16/16</td>\n",
       "      <td>AMZN</td>\n",
       "      <td>844,660</td>\n",
       "    </tr>\n",
       "    <tr>\n",
       "      <th>4</th>\n",
       "      <td>1/15/16</td>\n",
       "      <td>AMZN</td>\n",
       "      <td>9,697,179</td>\n",
       "    </tr>\n",
       "    <tr>\n",
       "      <th>5</th>\n",
       "      <td>1/14/16</td>\n",
       "      <td>AMZN</td>\n",
       "      <td>4,559,879</td>\n",
       "    </tr>\n",
       "  </tbody>\n",
       "</table>\n",
       "</div>"
      ],
      "text/plain": [
       "      Date Ticker     Volume\n",
       "0  1/19/16   AMZN    821,581\n",
       "1  1/18/16   AMZN  1,934,581\n",
       "2  1/17/16   AMZN  8,601,054\n",
       "3  1/16/16   AMZN    844,660\n",
       "4  1/15/16   AMZN  9,697,179\n",
       "5  1/14/16   AMZN  4,559,879"
      ]
     },
     "execution_count": 18,
     "metadata": {},
     "output_type": "execute_result"
    }
   ],
   "source": [
    "# Display content of second CSV file\n",
    "df_vol = DataFrame(pd.read_csv('data/amzn_vol.csv'))\n",
    "df_vol"
   ]
  },
  {
   "cell_type": "markdown",
   "metadata": {},
   "source": [
    "## Correct Methods"
   ]
  },
  {
   "cell_type": "code",
   "execution_count": 39,
   "metadata": {
    "collapsed": false
   },
   "outputs": [
    {
     "data": {
      "text/html": [
       "<div>\n",
       "<table border=\"1\" class=\"dataframe\">\n",
       "  <thead>\n",
       "    <tr style=\"text-align: right;\">\n",
       "      <th></th>\n",
       "      <th>Date</th>\n",
       "      <th>Ticker</th>\n",
       "      <th>Close</th>\n",
       "      <th>Volume</th>\n",
       "    </tr>\n",
       "  </thead>\n",
       "  <tbody>\n",
       "    <tr>\n",
       "      <th>0</th>\n",
       "      <td>1/14/16</td>\n",
       "      <td>AMZN</td>\n",
       "      <td>770.24</td>\n",
       "      <td>4,559,879</td>\n",
       "    </tr>\n",
       "    <tr>\n",
       "      <th>1</th>\n",
       "      <td>1/15/16</td>\n",
       "      <td>AMZN</td>\n",
       "      <td>716.52</td>\n",
       "      <td>9,697,179</td>\n",
       "    </tr>\n",
       "    <tr>\n",
       "      <th>2</th>\n",
       "      <td>1/16/16</td>\n",
       "      <td>AMZN</td>\n",
       "      <td>783.79</td>\n",
       "      <td>844,660</td>\n",
       "    </tr>\n",
       "    <tr>\n",
       "      <th>3</th>\n",
       "      <td>1/17/16</td>\n",
       "      <td>AMZN</td>\n",
       "      <td>710.68</td>\n",
       "      <td>8,601,054</td>\n",
       "    </tr>\n",
       "    <tr>\n",
       "      <th>4</th>\n",
       "      <td>1/18/16</td>\n",
       "      <td>AMZN</td>\n",
       "      <td>798.79</td>\n",
       "      <td>1,934,581</td>\n",
       "    </tr>\n",
       "  </tbody>\n",
       "</table>\n",
       "</div>"
      ],
      "text/plain": [
       "      Date Ticker   Close     Volume\n",
       "0  1/14/16   AMZN  770.24  4,559,879\n",
       "1  1/15/16   AMZN  716.52  9,697,179\n",
       "2  1/16/16   AMZN  783.79    844,660\n",
       "3  1/17/16   AMZN  710.68  8,601,054\n",
       "4  1/18/16   AMZN  798.79  1,934,581"
      ]
     },
     "execution_count": 39,
     "metadata": {},
     "output_type": "execute_result"
    }
   ],
   "source": [
    "# only include rows that exist in both tables\n",
    "df_close.merge(df_vol, how='inner')"
   ]
  },
  {
   "cell_type": "code",
   "execution_count": 42,
   "metadata": {
    "collapsed": false
   },
   "outputs": [
    {
     "data": {
      "text/html": [
       "<div>\n",
       "<table border=\"1\" class=\"dataframe\">\n",
       "  <thead>\n",
       "    <tr style=\"text-align: right;\">\n",
       "      <th></th>\n",
       "      <th>Date</th>\n",
       "      <th>Ticker</th>\n",
       "      <th>Close</th>\n",
       "      <th>Volume</th>\n",
       "    </tr>\n",
       "  </thead>\n",
       "  <tbody>\n",
       "    <tr>\n",
       "      <th>0</th>\n",
       "      <td>1/13/16</td>\n",
       "      <td>AMZN</td>\n",
       "      <td>724.92</td>\n",
       "      <td>NaN</td>\n",
       "    </tr>\n",
       "    <tr>\n",
       "      <th>1</th>\n",
       "      <td>1/14/16</td>\n",
       "      <td>AMZN</td>\n",
       "      <td>770.24</td>\n",
       "      <td>4,559,879</td>\n",
       "    </tr>\n",
       "    <tr>\n",
       "      <th>2</th>\n",
       "      <td>1/15/16</td>\n",
       "      <td>AMZN</td>\n",
       "      <td>716.52</td>\n",
       "      <td>9,697,179</td>\n",
       "    </tr>\n",
       "    <tr>\n",
       "      <th>3</th>\n",
       "      <td>1/16/16</td>\n",
       "      <td>AMZN</td>\n",
       "      <td>783.79</td>\n",
       "      <td>844,660</td>\n",
       "    </tr>\n",
       "    <tr>\n",
       "      <th>4</th>\n",
       "      <td>1/17/16</td>\n",
       "      <td>AMZN</td>\n",
       "      <td>710.68</td>\n",
       "      <td>8,601,054</td>\n",
       "    </tr>\n",
       "    <tr>\n",
       "      <th>5</th>\n",
       "      <td>1/18/16</td>\n",
       "      <td>AMZN</td>\n",
       "      <td>798.79</td>\n",
       "      <td>1,934,581</td>\n",
       "    </tr>\n",
       "    <tr>\n",
       "      <th>6</th>\n",
       "      <td>1/19/16</td>\n",
       "      <td>AMZN</td>\n",
       "      <td>NaN</td>\n",
       "      <td>821,581</td>\n",
       "    </tr>\n",
       "  </tbody>\n",
       "</table>\n",
       "</div>"
      ],
      "text/plain": [
       "      Date Ticker   Close     Volume\n",
       "0  1/13/16   AMZN  724.92        NaN\n",
       "1  1/14/16   AMZN  770.24  4,559,879\n",
       "2  1/15/16   AMZN  716.52  9,697,179\n",
       "3  1/16/16   AMZN  783.79    844,660\n",
       "4  1/17/16   AMZN  710.68  8,601,054\n",
       "5  1/18/16   AMZN  798.79  1,934,581\n",
       "6  1/19/16   AMZN     NaN    821,581"
      ]
     },
     "execution_count": 42,
     "metadata": {},
     "output_type": "execute_result"
    }
   ],
   "source": [
    "# including both ends\n",
    "df_close_vol = df_close.merge(df_vol, how='outer')\n",
    "df_close_vol"
   ]
  },
  {
   "cell_type": "code",
   "execution_count": 48,
   "metadata": {
    "collapsed": false
   },
   "outputs": [
    {
     "data": {
      "text/html": [
       "<div>\n",
       "<table border=\"1\" class=\"dataframe\">\n",
       "  <thead>\n",
       "    <tr style=\"text-align: right;\">\n",
       "      <th></th>\n",
       "      <th>Date</th>\n",
       "      <th>Ticker</th>\n",
       "      <th>Close</th>\n",
       "      <th>Volume</th>\n",
       "    </tr>\n",
       "  </thead>\n",
       "  <tbody>\n",
       "    <tr>\n",
       "      <th>6</th>\n",
       "      <td>1/19/16</td>\n",
       "      <td>AMZN</td>\n",
       "      <td>NaN</td>\n",
       "      <td>821,581</td>\n",
       "    </tr>\n",
       "    <tr>\n",
       "      <th>5</th>\n",
       "      <td>1/18/16</td>\n",
       "      <td>AMZN</td>\n",
       "      <td>798.79</td>\n",
       "      <td>1,934,581</td>\n",
       "    </tr>\n",
       "    <tr>\n",
       "      <th>4</th>\n",
       "      <td>1/17/16</td>\n",
       "      <td>AMZN</td>\n",
       "      <td>710.68</td>\n",
       "      <td>8,601,054</td>\n",
       "    </tr>\n",
       "    <tr>\n",
       "      <th>3</th>\n",
       "      <td>1/16/16</td>\n",
       "      <td>AMZN</td>\n",
       "      <td>783.79</td>\n",
       "      <td>844,660</td>\n",
       "    </tr>\n",
       "    <tr>\n",
       "      <th>2</th>\n",
       "      <td>1/15/16</td>\n",
       "      <td>AMZN</td>\n",
       "      <td>716.52</td>\n",
       "      <td>9,697,179</td>\n",
       "    </tr>\n",
       "    <tr>\n",
       "      <th>1</th>\n",
       "      <td>1/14/16</td>\n",
       "      <td>AMZN</td>\n",
       "      <td>770.24</td>\n",
       "      <td>4,559,879</td>\n",
       "    </tr>\n",
       "    <tr>\n",
       "      <th>0</th>\n",
       "      <td>1/13/16</td>\n",
       "      <td>AMZN</td>\n",
       "      <td>724.92</td>\n",
       "      <td>NaN</td>\n",
       "    </tr>\n",
       "  </tbody>\n",
       "</table>\n",
       "</div>"
      ],
      "text/plain": [
       "      Date Ticker   Close     Volume\n",
       "6  1/19/16   AMZN     NaN    821,581\n",
       "5  1/18/16   AMZN  798.79  1,934,581\n",
       "4  1/17/16   AMZN  710.68  8,601,054\n",
       "3  1/16/16   AMZN  783.79    844,660\n",
       "2  1/15/16   AMZN  716.52  9,697,179\n",
       "1  1/14/16   AMZN  770.24  4,559,879\n",
       "0  1/13/16   AMZN  724.92        NaN"
      ]
     },
     "execution_count": 48,
     "metadata": {},
     "output_type": "execute_result"
    }
   ],
   "source": [
    "# sort by desecnding dates\n",
    "df_close_vol.sort_index(ascending=False)"
   ]
  },
  {
   "cell_type": "markdown",
   "metadata": {},
   "source": [
    "## Incorrect Methods\n",
    "These methods may sound correct at first but do not yield the expected results."
   ]
  },
  {
   "cell_type": "code",
   "execution_count": 28,
   "metadata": {
    "collapsed": false
   },
   "outputs": [
    {
     "data": {
      "text/html": [
       "<div>\n",
       "<table border=\"1\" class=\"dataframe\">\n",
       "  <thead>\n",
       "    <tr style=\"text-align: right;\">\n",
       "      <th></th>\n",
       "      <th>Close</th>\n",
       "      <th>Date</th>\n",
       "      <th>Ticker</th>\n",
       "      <th>Volume</th>\n",
       "    </tr>\n",
       "  </thead>\n",
       "  <tbody>\n",
       "    <tr>\n",
       "      <th>0</th>\n",
       "      <td>NaN</td>\n",
       "      <td>1/13/161/14/16</td>\n",
       "      <td>AMZNAMZN</td>\n",
       "      <td>NaN</td>\n",
       "    </tr>\n",
       "    <tr>\n",
       "      <th>1</th>\n",
       "      <td>NaN</td>\n",
       "      <td>1/14/161/15/16</td>\n",
       "      <td>AMZNAMZN</td>\n",
       "      <td>NaN</td>\n",
       "    </tr>\n",
       "    <tr>\n",
       "      <th>2</th>\n",
       "      <td>NaN</td>\n",
       "      <td>1/15/161/16/16</td>\n",
       "      <td>AMZNAMZN</td>\n",
       "      <td>NaN</td>\n",
       "    </tr>\n",
       "    <tr>\n",
       "      <th>3</th>\n",
       "      <td>NaN</td>\n",
       "      <td>1/16/161/17/16</td>\n",
       "      <td>AMZNAMZN</td>\n",
       "      <td>NaN</td>\n",
       "    </tr>\n",
       "    <tr>\n",
       "      <th>4</th>\n",
       "      <td>NaN</td>\n",
       "      <td>1/17/161/18/16</td>\n",
       "      <td>AMZNAMZN</td>\n",
       "      <td>NaN</td>\n",
       "    </tr>\n",
       "    <tr>\n",
       "      <th>5</th>\n",
       "      <td>NaN</td>\n",
       "      <td>1/18/161/19/16</td>\n",
       "      <td>AMZNAMZN</td>\n",
       "      <td>NaN</td>\n",
       "    </tr>\n",
       "  </tbody>\n",
       "</table>\n",
       "</div>"
      ],
      "text/plain": [
       "   Close            Date    Ticker Volume\n",
       "0    NaN  1/13/161/14/16  AMZNAMZN    NaN\n",
       "1    NaN  1/14/161/15/16  AMZNAMZN    NaN\n",
       "2    NaN  1/15/161/16/16  AMZNAMZN    NaN\n",
       "3    NaN  1/16/161/17/16  AMZNAMZN    NaN\n",
       "4    NaN  1/17/161/18/16  AMZNAMZN    NaN\n",
       "5    NaN  1/18/161/19/16  AMZNAMZN    NaN"
      ]
     },
     "execution_count": 28,
     "metadata": {},
     "output_type": "execute_result"
    }
   ],
   "source": [
    "#deliberately showing wrong operation\n",
    "df_close + df_vol"
   ]
  },
  {
   "cell_type": "code",
   "execution_count": 29,
   "metadata": {
    "collapsed": false
   },
   "outputs": [
    {
     "data": {
      "text/html": [
       "<div>\n",
       "<table border=\"1\" class=\"dataframe\">\n",
       "  <thead>\n",
       "    <tr style=\"text-align: right;\">\n",
       "      <th></th>\n",
       "      <th>Close</th>\n",
       "      <th>Date</th>\n",
       "      <th>Ticker</th>\n",
       "      <th>Volume</th>\n",
       "    </tr>\n",
       "  </thead>\n",
       "  <tbody>\n",
       "    <tr>\n",
       "      <th>0</th>\n",
       "      <td>724.92</td>\n",
       "      <td>1/13/16</td>\n",
       "      <td>AMZN</td>\n",
       "      <td>NaN</td>\n",
       "    </tr>\n",
       "    <tr>\n",
       "      <th>1</th>\n",
       "      <td>770.24</td>\n",
       "      <td>1/14/16</td>\n",
       "      <td>AMZN</td>\n",
       "      <td>NaN</td>\n",
       "    </tr>\n",
       "    <tr>\n",
       "      <th>2</th>\n",
       "      <td>716.52</td>\n",
       "      <td>1/15/16</td>\n",
       "      <td>AMZN</td>\n",
       "      <td>NaN</td>\n",
       "    </tr>\n",
       "    <tr>\n",
       "      <th>3</th>\n",
       "      <td>783.79</td>\n",
       "      <td>1/16/16</td>\n",
       "      <td>AMZN</td>\n",
       "      <td>NaN</td>\n",
       "    </tr>\n",
       "    <tr>\n",
       "      <th>4</th>\n",
       "      <td>710.68</td>\n",
       "      <td>1/17/16</td>\n",
       "      <td>AMZN</td>\n",
       "      <td>NaN</td>\n",
       "    </tr>\n",
       "    <tr>\n",
       "      <th>5</th>\n",
       "      <td>798.79</td>\n",
       "      <td>1/18/16</td>\n",
       "      <td>AMZN</td>\n",
       "      <td>NaN</td>\n",
       "    </tr>\n",
       "    <tr>\n",
       "      <th>0</th>\n",
       "      <td>NaN</td>\n",
       "      <td>1/14/16</td>\n",
       "      <td>AMZN</td>\n",
       "      <td>4,559,879</td>\n",
       "    </tr>\n",
       "    <tr>\n",
       "      <th>1</th>\n",
       "      <td>NaN</td>\n",
       "      <td>1/15/16</td>\n",
       "      <td>AMZN</td>\n",
       "      <td>9,697,179</td>\n",
       "    </tr>\n",
       "    <tr>\n",
       "      <th>2</th>\n",
       "      <td>NaN</td>\n",
       "      <td>1/16/16</td>\n",
       "      <td>AMZN</td>\n",
       "      <td>844,660</td>\n",
       "    </tr>\n",
       "    <tr>\n",
       "      <th>3</th>\n",
       "      <td>NaN</td>\n",
       "      <td>1/17/16</td>\n",
       "      <td>AMZN</td>\n",
       "      <td>8,601,054</td>\n",
       "    </tr>\n",
       "    <tr>\n",
       "      <th>4</th>\n",
       "      <td>NaN</td>\n",
       "      <td>1/18/16</td>\n",
       "      <td>AMZN</td>\n",
       "      <td>1,934,581</td>\n",
       "    </tr>\n",
       "    <tr>\n",
       "      <th>5</th>\n",
       "      <td>NaN</td>\n",
       "      <td>1/19/16</td>\n",
       "      <td>AMZN</td>\n",
       "      <td>821,581</td>\n",
       "    </tr>\n",
       "  </tbody>\n",
       "</table>\n",
       "</div>"
      ],
      "text/plain": [
       "    Close     Date Ticker     Volume\n",
       "0  724.92  1/13/16   AMZN        NaN\n",
       "1  770.24  1/14/16   AMZN        NaN\n",
       "2  716.52  1/15/16   AMZN        NaN\n",
       "3  783.79  1/16/16   AMZN        NaN\n",
       "4  710.68  1/17/16   AMZN        NaN\n",
       "5  798.79  1/18/16   AMZN        NaN\n",
       "0     NaN  1/14/16   AMZN  4,559,879\n",
       "1     NaN  1/15/16   AMZN  9,697,179\n",
       "2     NaN  1/16/16   AMZN    844,660\n",
       "3     NaN  1/17/16   AMZN  8,601,054\n",
       "4     NaN  1/18/16   AMZN  1,934,581\n",
       "5     NaN  1/19/16   AMZN    821,581"
      ]
     },
     "execution_count": 29,
     "metadata": {},
     "output_type": "execute_result"
    }
   ],
   "source": [
    "# simply stacking them vertically\n",
    "pd.concat([df_close, df_vol])"
   ]
  },
  {
   "cell_type": "code",
   "execution_count": 49,
   "metadata": {
    "collapsed": false
   },
   "outputs": [],
   "source": []
  },
  {
   "cell_type": "code",
   "execution_count": null,
   "metadata": {
    "collapsed": true
   },
   "outputs": [],
   "source": []
  }
 ],
 "metadata": {
  "kernelspec": {
   "display_name": "Python 3",
   "language": "python",
   "name": "python3"
  },
  "language_info": {
   "codemirror_mode": {
    "name": "ipython",
    "version": 3
   },
   "file_extension": ".py",
   "mimetype": "text/x-python",
   "name": "python",
   "nbconvert_exporter": "python",
   "pygments_lexer": "ipython3",
   "version": "3.5.1"
  }
 },
 "nbformat": 4,
 "nbformat_minor": 0
}
